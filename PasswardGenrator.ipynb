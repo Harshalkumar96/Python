{
  "nbformat": 4,
  "nbformat_minor": 0,
  "metadata": {
    "colab": {
      "provenance": [],
      "authorship_tag": "ABX9TyPH7bmTSTYKlRwmDRPnoxVe",
      "include_colab_link": true
    },
    "kernelspec": {
      "name": "python3",
      "display_name": "Python 3"
    },
    "language_info": {
      "name": "python"
    }
  },
  "cells": [
    {
      "cell_type": "markdown",
      "metadata": {
        "id": "view-in-github",
        "colab_type": "text"
      },
      "source": [
        "<a href=\"https://colab.research.google.com/github/Harshalkumar96/Python/blob/main/PasswardGenrator.ipynb\" target=\"_parent\"><img src=\"https://colab.research.google.com/assets/colab-badge.svg\" alt=\"Open In Colab\"/></a>"
      ]
    },
    {
      "cell_type": "code",
      "execution_count": null,
      "metadata": {
        "id": "G9m9U-hhCyrA"
      },
      "outputs": [],
      "source": [
        "# Python Password Generator\n",
        "\n",
        "import random\n",
        "\n",
        "letters = list('abcdefghijklmnopqrstuvwxyzABCDEFGHIJKLMNOPQRSTUVWXYZ')\n",
        "numbers = list('0123456789')\n",
        "symbols = ['!', '#', '$', '%', '&', '(', ')', '*', '+']\n",
        "\n",
        "print(\"Welcome to Password Generator\")\n",
        "\n",
        "n_letters = int(input(\"How many letters would you like in your password?\\n\"))\n",
        "n_symbols = int(input(\"How many symbols would you like?\\n\"))\n",
        "n_numbers = int(input(\"How many numbers would you like?\\n\"))\n",
        "\n",
        "# Generate random characters\n",
        "password_chars = (\n",
        "    [random.choice(letters) for _ in range(n_letters)] +\n",
        "    [random.choice(symbols) for _ in range(n_symbols)] +\n",
        "    [random.choice(numbers) for _ in range(n_numbers)]\n",
        ")\n",
        "\n",
        "print(password_chars)\n",
        "\n",
        "# Shuffle the combined list\n",
        "random.shuffle(password_chars)\n",
        "\n",
        "# Join into a final string\n",
        "password_final = ''.join(password_chars)\n",
        "\n",
        "print('Your final password is =>', password_final)\n"
      ]
    }
  ]
}